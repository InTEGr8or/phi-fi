d{
 "cells": [
  {
   "cell_type": "markdown",
   "metadata": {},
   "source": [
    "# YouTube Downloads with PyTube\n",
    "\n",
    "This handy Python library turns you into a YouTube downloading wizzard. This notebook downloads one video, but you can easily access the `streams` array to loop through and download collections.\n",
    "\n",
    "## Installation\n",
    "\n",
    "1. Install Python\n",
    "2. `pip install pytube`\n",
    "3. Open Python console by typing `py` in the console\n",
    "4. \n",
    "```python\n",
    ">>> from pytube import YouTube`\n",
    ">>> YouTube('https://www.youtube.com/watch?v=gOrkA_XJ4FU&t=16s').streams.first().download()\n",
    "```"
   ]
  },
  {
   "cell_type": "code",
   "execution_count": 10,
   "metadata": {},
   "outputs": [],
   "source": [
    "#importing the module\n",
    "from pytube import YouTube\n",
    "\n",
    "#where to save\n",
    "SAVE_PATH = \"E:/\" #to_do\n",
    "\n",
    "#link of the video to be downloaded\n",
    "link=\"https://www.youtube.com/watch?v=Li2J4GxZ6iM\"\n",
    "\n",
    "try:\n",
    "\t#object creation using YouTube which was imported in the beginning\n",
    "\tYouTube('https://www.youtube.com/watch?v=gOrkA_XJ4FU&t=16s').streams.first().download()\n",
    "    \n",
    "except:\n",
    "\tprint(\"Connection Error\") #to handle exception\n",
    "    \n",
    "\n"
   ]
  },
  {
   "cell_type": "code",
   "execution_count": null,
   "metadata": {},
   "outputs": [],
   "source": []
  }
 ],
 "metadata": {
  "kernelspec": {
   "display_name": "Python [default]",
   "language": "python",
   "name": "python3"
  },
  "language_info": {
   "codemirror_mode": {
    "name": "ipython",
    "version": 3
   },
   "file_extension": ".py",
   "mimetype": "text/x-python",
   "name": "python",
   "nbconvert_exporter": "python",
   "pygments_lexer": "ipython3",
   "version": "3.6.3"
  }
 },
 "nbformat": 4,
 "nbformat_minor": 2
}
